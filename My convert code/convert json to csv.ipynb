{
 "cells": [
  {
   "cell_type": "code",
   "execution_count": 2,
   "metadata": {},
   "outputs": [
    {
     "name": "stdout",
     "output_type": "stream",
     "text": [
      "{'emp_name': 'Ahmed', 'email': 'ahmed@gmail.com', 'position': 'SWE'}\n"
     ]
    }
   ],
   "source": [
    "# Python program to convert\n",
    "# JSON file to CSV\n",
    "\n",
    "\n",
    "import json\n",
    "import csv\n",
    "\n",
    "\n",
    "# Opening JSON file and loading the data\n",
    "# into the variable data\n",
    "with open(r\"C:\\Users\\temp\\Desktop\\assessment 3\\json_file.json\") as file:\n",
    "    data = json.load(file)\n",
    "        \n",
    "# now we will open a file for writing\n",
    "file_csv = open(r\"C:\\Users\\temp\\Desktop\\assessment 3\\csv_file.csv\", 'w')\n",
    "\n",
    "# create the csv writer object\n",
    "csv_writer = csv.writer(data)\n",
    "\n",
    "\n",
    "\n",
    "employee_data = data['emp_details']\n",
    "# Counter variable used for writing \n",
    "# headers to the CSV file\n",
    "count = 0\n",
    "\n",
    "for emp in employee_data:\n",
    "    if count == 0:\n",
    "        # Writing headers of CSV file\n",
    "        header = emp.keys()\n",
    "        csv_writer.writerow(header)\n",
    "        count += 1\n",
    "        print(emp)\n",
    "\n",
    "    # Writing data of CSV file\n",
    "    csv_writer.writerow(emp.values())\n",
    "\n",
    "data_file.close()\n"
   ]
  },
  {
   "cell_type": "code",
   "execution_count": null,
   "metadata": {},
   "outputs": [],
   "source": []
  }
 ],
 "metadata": {
  "kernelspec": {
   "display_name": "Python 3 (ipykernel)",
   "language": "python",
   "name": "python3"
  },
  "language_info": {
   "codemirror_mode": {
    "name": "ipython",
    "version": 3
   },
   "file_extension": ".py",
   "mimetype": "text/x-python",
   "name": "python",
   "nbconvert_exporter": "python",
   "pygments_lexer": "ipython3",
   "version": "3.11.4"
  }
 },
 "nbformat": 4,
 "nbformat_minor": 4
}
