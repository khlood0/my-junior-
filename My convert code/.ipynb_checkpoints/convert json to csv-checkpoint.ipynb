{
 "cells": [
  {
   "cell_type": "code",
   "execution_count": null,
   "metadata": {},
   "outputs": [],
   "source": [
    "# Python program to convert\n",
    "# JSON file to CSV\n",
    "\n",
    "\n",
    "import json\n",
    "import csv\n",
    "\n",
    "\n",
    "# Opening JSON file and loading the data\n",
    "# into the variable data\n",
    "with open('C:\\\\Users\\\\Ahmed Hamam\\\\Desktop\\\\example_2.json') as json_file:\n",
    "    data = json.load(json_file)\n",
    "\n",
    "employee_data = data['emp_details']\n",
    "\n",
    "# now we will open a file for writing\n",
    "data_file = open('C:\\\\Users\\\\Ahmed Hamam\\\\Desktop\\\\New.csv', 'w')\n",
    "\n",
    "# create the csv writer object\n",
    "csv_writer = csv.writer(data_file)\n",
    "\n",
    "# Counter variable used for writing \n",
    "# headers to the CSV file\n",
    "count = 0\n",
    "\n",
    "for emp in employee_data:\n",
    "    if count == 0:\n",
    "\n",
    "        # Writing headers of CSV file\n",
    "        header = emp.keys()\n",
    "        csv_writer.writerow(header)\n",
    "        count += 1\n",
    "        print(emp)\n",
    "\n",
    "    # Writing data of CSV file\n",
    "    csv_writer.writerow(emp.values())\n",
    "\n",
    "data_file.close()\n"
   ]
  },
  {
   "cell_type": "code",
   "execution_count": null,
   "metadata": {},
   "outputs": [],
   "source": [
    "import json\n",
    "import csv\n",
    "\n",
    "\n",
    "with open('C:\\\\Users\\\\Ahmed Hamam\\\\Desktop\\\\example_2.json') as json_file:\n",
    "    data = json.load(json_file)\n",
    "    \n",
    "employee_data = data['emp_details']    \n",
    "\n",
    "# now we will open a file for writing\n",
    "data_file = open('C:\\\\Users\\\\Ahmed Hamam\\\\Desktop\\\\New.csv', 'w')\n",
    "\n",
    "# create the csv writer object\n",
    "csv_writer = csv.writer(data_file)\n"
   ]
  }
 ],
 "metadata": {
  "kernelspec": {
   "display_name": "Python 3 (ipykernel)",
   "language": "python",
   "name": "python3"
  },
  "language_info": {
   "codemirror_mode": {
    "name": "ipython",
    "version": 3
   },
   "file_extension": ".py",
   "mimetype": "text/x-python",
   "name": "python",
   "nbconvert_exporter": "python",
   "pygments_lexer": "ipython3",
   "version": "3.11.4"
  }
 },
 "nbformat": 4,
 "nbformat_minor": 4
}
